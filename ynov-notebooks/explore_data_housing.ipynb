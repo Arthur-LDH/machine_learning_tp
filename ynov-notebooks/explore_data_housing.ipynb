{
 "cells": [
  {
   "cell_type": "code",
   "execution_count": 176,
   "id": "67ec4101-4271-430d-919d-074b6ae180f7",
   "metadata": {},
   "outputs": [],
   "source": [
    "import pandas as pd\n",
    "import matplotlib.pyplot as plt\n",
    "import numpy as np"
   ]
  },
  {
   "cell_type": "code",
   "execution_count": 177,
   "id": "58fbdefc-7a95-47c7-aefc-f9af2544e231",
   "metadata": {},
   "outputs": [],
   "source": [
    "df_housing_train = pd.read_csv(\"../ynov-data/train_housing_train.csv\")\n",
    "df_housing_valid = pd.read_csv(\"../ynov-data/train_housing_valid.csv\")"
   ]
  },
  {
   "cell_type": "code",
   "execution_count": 178,
   "id": "151a403e-d6dd-4772-a6b8-67557d7ed9f8",
   "metadata": {},
   "outputs": [
    {
     "data": {
      "text/plain": [
       "np.float64(206734.20041666666)"
      ]
     },
     "execution_count": 178,
     "metadata": {},
     "output_type": "execute_result"
    }
   ],
   "source": [
    "housing_median_prediction = df_housing_train['median_house_value'].mean()\n",
    "housing_median_prediction"
   ]
  },
  {
   "cell_type": "code",
   "execution_count": 179,
   "id": "044a49fe-98ab-4975-97f1-7b6446739954",
   "metadata": {},
   "outputs": [],
   "source": [
    "from sklearn.metrics import root_mean_squared_error\n",
    "\n",
    "predictions = df_housing_valid['median_house_value_prediction']\n",
    "true_values = df_housing_valid['median_house_value']\n",
    "rmse = root_mean_squared_error(true_values, predictions)"
   ]
  },
  {
   "cell_type": "code",
   "execution_count": 175,
   "id": "b6d7f9ea-147d-4dc3-8ab0-b9e9fdfde06d",
   "metadata": {},
   "outputs": [],
   "source": [
    "df_submission = pd.read_csv(\"../ynov-data/submission.csv\")\n",
    "df_submission['median_house_value'] = predictions\n",
    "df_submission.to_csv('../ynov-data/submission.csv', index=False)"
   ]
  },
  {
   "cell_type": "code",
   "execution_count": null,
   "id": "4691b973-61b7-4e58-8a79-c51275383488",
   "metadata": {},
   "outputs": [],
   "source": []
  }
 ],
 "metadata": {
  "kernelspec": {
   "display_name": "Python 3 (ipykernel)",
   "language": "python",
   "name": "python3"
  },
  "language_info": {
   "codemirror_mode": {
    "name": "ipython",
    "version": 3
   },
   "file_extension": ".py",
   "mimetype": "text/x-python",
   "name": "python",
   "nbconvert_exporter": "python",
   "pygments_lexer": "ipython3",
   "version": "3.10.12"
  }
 },
 "nbformat": 4,
 "nbformat_minor": 5
}
